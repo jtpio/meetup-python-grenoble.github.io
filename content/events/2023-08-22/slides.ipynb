{
 "cells": [
  {
   "cell_type": "markdown",
   "id": "a9c74a3e-bd5a-4c64-bea5-1b5212840ace",
   "metadata": {
    "slideshow": {
     "slide_type": "slide"
    },
    "tags": []
   },
   "source": [
    "<img src=\"static/cover.jpg\" width=\"600\">\n",
    "\n",
    "# Meetup Python Estival\n",
    "\n",
    "_Romain Clement, Pierre-Loïc Bayart_\n",
    "\n",
    "Meetup Python Grenoble, 22/08/2023"
   ]
  },
  {
   "cell_type": "markdown",
   "id": "3822e517-fff5-4114-bfb2-98bd6a517932",
   "metadata": {
    "slideshow": {
     "slide_type": "slide"
    },
    "tags": []
   },
   "source": [
    "## Sommaire\n",
    "\n",
    "1. 📆 Sessions planifiées\n",
    "2. 🥘 Idées qui mijotent\n",
    "3. 💡 Suggestions"
   ]
  },
  {
   "cell_type": "markdown",
   "id": "febbc531-18fb-4b2f-b275-0a6498215629",
   "metadata": {
    "slideshow": {
     "slide_type": "slide"
    },
    "tags": []
   },
   "source": [
    "## 📆 Sessions planifiées\n",
    "\n",
    "- 28/09/2023 : _Automatisation du versioning d'un projet Python_, David Rigaudie"
   ]
  },
  {
   "cell_type": "markdown",
   "id": "5aa746b1-9afa-44ae-8410-326a26bcc79a",
   "metadata": {
    "slideshow": {
     "slide_type": "slide"
    },
    "tags": []
   },
   "source": [
    "## 🥘 Idées qui mijotent\n",
    "\n",
    "- _Démarrer avec le typage statique en Python_ (talk)\n",
    "- _Passerelles avec les autres langages de programmation (Rust, C++, Go, Julia, TypeScript/JS, WASM)_ (talk)\n",
    "- _La physique ludique en Python_ (talk / workshop)\n",
    "- _Comment démarrer en open-source ?_\n",
    "    - Format table-ronde\n",
    "    - Trouver des contributeurs (FL)OSS de Grenoble, idéalement dans l'écosystème Python\n",
    "- _Lectures Pythoniques_\n",
    "    - Découverte en mode \"book club\" (livres, articles, vidéos, podcasts, etc.)\n",
    "    - Format \"lightning talks\" 10mn avec recap + conclusion perso\n",
    "- _Python et musique_\n",
    "    - Apprendre / jouer / écrire de la musique avec Python\n",
    "    - Format \"workshop\" (à l'occasion de la fête de la musique 2024 ? Partenariat Turbine ?)\n",
    "- _Supercharger Excel avec Python_ (talk / workshop)"
   ]
  },
  {
   "cell_type": "markdown",
   "id": "91b52619-31df-4508-a4ee-e6c41f8015be",
   "metadata": {
    "slideshow": {
     "slide_type": "slide"
    },
    "tags": []
   },
   "source": [
    "## 💡 Suggestions\n",
    "\n",
    "### Talks\n",
    "\n",
    "- _Comment voler un centime à l'aide des mathématiques ?_ (Julien Lenormand)\n",
    "- _L'expérience développeur en Python_ (Mathieu Poissard)\n",
    "- Divers sujets orientés Data Engineering (Idriss Alaoui Amini)"
   ]
  },
  {
   "cell_type": "markdown",
   "id": "0c1d6ef2-12c0-47e5-9533-c39f3c980292",
   "metadata": {
    "slideshow": {
     "slide_type": "slide"
    },
    "tags": []
   },
   "source": [
    "## 💡 Suggestions\n",
    "\n",
    "### Organisation\n",
    "\n",
    "- Organiser des meetups \"back to basics\"\n",
    "    - Plusieurs thèmes : dev, web, data, IA, packaging, open-source\n",
    "    - Croiser les profils pour permettre un genre de mentorat\n",
    "    - Nouvelle modalité ?\n",
    "- Amélioration de communication\n",
    "    - Pour chaque événment, indiquer le nom des librairies / techs qui vont être abordées / discutées\n",
    "- Lightning talks\n",
    "    - Mettre en place une liste d'inscription continue dès le début de la saison, et déclencher une session quand 4 ou 5 speakers sont inscrits"
   ]
  }
 ],
 "metadata": {
  "kernelspec": {
   "display_name": "Python 3 (ipykernel)",
   "language": "python",
   "name": "python3"
  },
  "language_info": {
   "name": ""
  }
 },
 "nbformat": 4,
 "nbformat_minor": 5
}
