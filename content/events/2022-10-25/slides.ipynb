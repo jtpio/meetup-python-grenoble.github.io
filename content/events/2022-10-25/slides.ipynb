{
 "cells": [
  {
   "cell_type": "markdown",
   "id": "de940c2a",
   "metadata": {
    "slideshow": {
     "slide_type": "slide"
    }
   },
   "source": [
    "![Cover](static/cover.png)"
   ]
  },
  {
   "cell_type": "markdown",
   "id": "8613667c",
   "metadata": {
    "slideshow": {
     "slide_type": "slide"
    }
   },
   "source": [
    "# Régles du jeu\n",
    "\n",
    "- 🥊 2 équipes\n",
    "\n",
    "- ❔ 10 questions - 5 questions par équipe\n",
    "\n",
    "- 🥇 2 points par question : 1 point pour la bonne réponse et 1 point pour l'explication "
   ]
  },
  {
   "cell_type": "markdown",
   "id": "c46a775a",
   "metadata": {
    "slideshow": {
     "slide_type": "slide"
    }
   },
   "source": [
    "## ❔ Question N°1 🎃\n",
    "\n",
    "Que contient la variable `var` ?\n",
    "\n",
    "```python\n",
    "var = [3, 4] * 3\n",
    "```"
   ]
  },
  {
   "cell_type": "markdown",
   "id": "3c92700a",
   "metadata": {
    "slideshow": {
     "slide_type": "fragment"
    }
   },
   "source": [
    "#### 🕸️ Réponse A :\n",
    "```python\n",
    "[9, 12]\n",
    "```\n",
    "#### 🕷️ Réponse B :\n",
    "```python\n",
    "[3, 4, 3, 4, 3, 4]\n",
    "```\n",
    "#### 👻 Réponse C :\n",
    "```python\n",
    "[3, 4], [3, 4], [3, 4]\n",
    "```\n",
    "#### 🏚️ Réponse D :\n",
    "```python\n",
    "[[3, 4], [3, 4], [3, 4]]\n",
    "```"
   ]
  },
  {
   "cell_type": "markdown",
   "id": "c3226395",
   "metadata": {
    "slideshow": {
     "slide_type": "subslide"
    }
   },
   "source": [
    "## ✅ Réponse B :\n",
    "```python\n",
    "[3, 4, 3, 4, 3, 4]\n",
    "```\n",
    "La multiplication d'une **liste** par un **nombre** en Python **duplique** les éléments de la liste. Par contre, les **tableaux Numpy** (Numpy ndarrays) ont un comportement plus classique :\n",
    "\n",
    "```python\n",
    "import numpy as np\n",
    "\n",
    "var = np.array([3, 4])\n",
    "print(var*3)\n",
    "\n",
    ">>> [ 9 12]\n",
    "```\n",
    "\n",
    "## 📚 Ressources :\n",
    "\n",
    "- [Stackoverflow - How to multiply individual elements of a list with a number?](https://stackoverflow.com/questions/8194959/how-to-multiply-individual-elements-of-a-list-with-a-number)\n",
    "\n",
    "- [Numpy - Broadcasting](https://numpy.org/doc/stable/user/basics.broadcasting.html)"
   ]
  },
  {
   "cell_type": "markdown",
   "id": "649e4a71",
   "metadata": {
    "slideshow": {
     "slide_type": "slide"
    }
   },
   "source": [
    "## ❔ Question N°2 🎃\n",
    "\n",
    "Que contient la variable `var_1` ?\n",
    "\n",
    "```python\n",
    "var_1 = [[3, 4, 5]]\n",
    "var_2 = var_1[:]\n",
    "var_2[0].append(6)\n",
    "```"
   ]
  },
  {
   "cell_type": "markdown",
   "id": "33f38b0d",
   "metadata": {
    "slideshow": {
     "slide_type": "fragment"
    }
   },
   "source": [
    "#### 🕸️ Réponse A :\n",
    "```python\n",
    "[[3, 4, 5, 6]]\n",
    "```\n",
    "#### 🕷️ Réponse B :\n",
    "```python\n",
    "[[3, 4, 5]]\n",
    "```\n",
    "#### 👻 Réponse C :\n",
    "```python\n",
    "[[3, 4, 5], 6]\n",
    "```\n",
    "#### 🏚️ Réponse D :\n",
    "```python\n",
    "[3, 4, 5, 6]\n",
    "```"
   ]
  },
  {
   "cell_type": "markdown",
   "id": "5fc7fd58",
   "metadata": {
    "slideshow": {
     "slide_type": "subslide"
    }
   },
   "source": [
    "## ✅ Réponse A :\n",
    "```python\n",
    "[[3, 4, 5, 6]]\n",
    "```\n",
    "La copie réalisée à l'aide du code `var_1[:]` est une **copie superficielle**. Pour effectuer une **copie récursive**, il faut utiliser la fonction `deepcopy()` du module `copy` de la bibliothèque standard.\n",
    "\n",
    "## 📚 Ressources :\n",
    "\n",
    "- [Python - Module copy](https://docs.python.org/3/library/copy.html)\n"
   ]
  },
  {
   "cell_type": "markdown",
   "id": "6fedb3e3",
   "metadata": {
    "slideshow": {
     "slide_type": "slide"
    }
   },
   "source": [
    "## ❔ Question N°3 🎃\n",
    "\n",
    "Que renvoie le code Python suivant ?\n",
    "\n",
    "```python\n",
    "print(\n",
    "    (1==1) in [1],\n",
    "    1 <= 0 <= 1,\n",
    "    1 <= (0 <= 1)\n",
    ")\n",
    "```"
   ]
  },
  {
   "cell_type": "markdown",
   "id": "0a2593c3",
   "metadata": {
    "slideshow": {
     "slide_type": "fragment"
    }
   },
   "source": [
    "#### 🕸️ Réponse A :\n",
    "```python\n",
    "True True True\n",
    "```\n",
    "#### 🕷️ Réponse B :\n",
    "```python\n",
    "True False True\n",
    "```\n",
    "#### 👻 Réponse C :\n",
    "```python\n",
    "True False False\n",
    "```\n",
    "#### 🏚️ Réponse D :\n",
    "```python\n",
    "False True True\n",
    "```"
   ]
  },
  {
   "cell_type": "markdown",
   "id": "dc52862e",
   "metadata": {
    "slideshow": {
     "slide_type": "subslide"
    }
   },
   "source": [
    "## ✅ Réponse B :\n",
    "```python\n",
    "True False True\n",
    "```\n",
    "Pour le code `print((1==1) in [1])`, la condition `1==1` est vraie donc on a `print(True in [1])`. Comme le booléen `True` est équivalent à `1`, la première ligne renvoie `True`.\n",
    "\n",
    "Le code `print(1 <= 0 <= 1)` est équivalent à `print(1 <= 0 and 0 <= 1)` donc à `print(False and True)`. La seconde ligne renvoie donc `False`.\n",
    "\n",
    "Pour le code `print(1 <= (0 <= 1))`, la condition `0 <= 1` est vraie donc on a `print(1 <= True)`. Comme le booléen `True` est équivalent à `1`, la troisième ligne renvoie `True`.\n",
    "\n",
    "\n",
    "## 📚 Ressources :\n",
    "\n",
    "- [Python - Comparaisons](https://docs.python.org/fr/3/reference/expressions.html#comparisons)\n",
    "\n",
    "- [What the f*ck Python!](https://github.com/satwikkansal/wtfpython#-be-careful-with-chained-operations)"
   ]
  },
  {
   "cell_type": "markdown",
   "id": "749b2aff",
   "metadata": {
    "slideshow": {
     "slide_type": "slide"
    }
   },
   "source": [
    "## ❔ Question N°4 🎃\n",
    "\n",
    "Que contient la variable `dico` ?\n",
    "\n",
    "```python\n",
    "dico = {}\n",
    "dico[True] = \"var_1\"\n",
    "dico[1] = \"var_2\"\n",
    "dico[1.0] = \"var_3\"\n",
    "```"
   ]
  },
  {
   "cell_type": "markdown",
   "id": "bf7a2db4",
   "metadata": {
    "slideshow": {
     "slide_type": "fragment"
    }
   },
   "source": [
    "#### 🕸️ Réponse A :\n",
    "```python\n",
    "{True: 'var_1', 1: 'var_2', 1.0: 'var_3'}\n",
    "```\n",
    "#### 🕷️ Réponse B :\n",
    "```python\n",
    "{True: 'var_1', 1: 'var_2'}\n",
    "```\n",
    "#### 👻 Réponse C :\n",
    "```python\n",
    "{1.0: 'var_3'}\n",
    "```\n",
    "#### 🏚️ Réponse D :\n",
    "```python\n",
    "{True: 'var_3'}\n",
    "```"
   ]
  },
  {
   "cell_type": "markdown",
   "id": "2961505b",
   "metadata": {
    "slideshow": {
     "slide_type": "subslide"
    }
   },
   "source": [
    "## ✅ Réponse D :\n",
    "```python\n",
    "{True: 'var_3'}\n",
    "```\n",
    "Les **dictionnaires** en Python utilisent une **fonction de hashage** pour gérer les **clés**. Comme `True`, `1` et `1.0` ont le même hash, il s'agit donc de la **même clé** de dictionnaire.\n",
    "```python\n",
    "hash(True)==hash(1)==hash(1.0)\n",
    "\n",
    ">>> True\n",
    "```\n",
    "La **première clé** du dictionnaire est enregistrée avec son hash. Par contre, les valeurs sont toutes enregistrées et elle écrase la valeur précédente donc c'est la **dernière valeur** qui est conservée.\n",
    "\n",
    "## 📚 Ressources :\n",
    "\n",
    "- [Python - Hash](https://docs.python.org/fr/3/library/functions.html?highlight=hash#hash)\n",
    "\n",
    "- [What the f*ck Python!](https://github.com/satwikkansal/wtfpython#-hash-brownies)"
   ]
  },
  {
   "cell_type": "markdown",
   "id": "23403e61",
   "metadata": {
    "slideshow": {
     "slide_type": "slide"
    }
   },
   "source": [
    "## ❔ Question N°5 🎃\n",
    "\n",
    "Que renvoie le code Python suivant ?\n",
    "\n",
    "```python\n",
    "print(\n",
    "    all([]),\n",
    "    all([[]]),\n",
    "    all([[[]]]),\n",
    "    all([[[[]]]]),\n",
    ")\n",
    "```"
   ]
  },
  {
   "cell_type": "markdown",
   "id": "62415048",
   "metadata": {
    "slideshow": {
     "slide_type": "fragment"
    }
   },
   "source": [
    "#### 🕸️ Réponse A :\n",
    "```python\n",
    "True True True True\n",
    "```\n",
    "#### 🕷️ Réponse B :\n",
    "```python\n",
    "False False False False\n",
    "```\n",
    "#### 👻 Réponse C :\n",
    "```python\n",
    "True False True True\n",
    "```\n",
    "#### 🏚️ Réponse D :\n",
    "```python\n",
    "False True False True\n",
    "```"
   ]
  },
  {
   "cell_type": "markdown",
   "id": "960705f5",
   "metadata": {
    "slideshow": {
     "slide_type": "subslide"
    }
   },
   "source": [
    "## ✅ Réponse C :\n",
    "```python\n",
    "True False True True\n",
    "```\n",
    "La fonction `all()` est implémentée de la façon suivante en Python :\n",
    "```python\n",
    "def all(iterable):\n",
    "    for element in iterable:\n",
    "        if not element:\n",
    "            return False\n",
    "    return True\n",
    "```\n",
    "La liste vide `[]` renvoie `True` car il n'y a pas d'élèments dans l'itérable. La liste 2 `[[]]` contient un élèment mais il s'agit de la **liste vide** `[]` qui est considérée comme `False`. Pour les listes 3 et 4, elles contiennent des listes qui ne sont **pas vides**.  \n",
    "\n",
    "## 📚 Ressources :\n",
    "\n",
    "- [Python - All](https://docs.python.org/fr/3/library/functions.html#all)\n",
    "- [What the f*ck Python!](https://github.com/satwikkansal/wtfpython#-all-true-ation-)"
   ]
  },
  {
   "cell_type": "markdown",
   "id": "7d8f4fe5",
   "metadata": {
    "slideshow": {
     "slide_type": "slide"
    }
   },
   "source": [
    "## ❔ Question N°6 🎃\n",
    "\n",
    "Que renvoie le code Python suivant ?\n",
    "\n",
    "```python\n",
    "a = \"\".join([\"s\", \"a\", \"l\", \"u\", \"t\"])\n",
    "b = \"s\" + \"a\" + \"l\" + \"u\" + \"t\"\n",
    "c = 'salut'\n",
    "print(a is b, a is c, b is c)\n",
    "```"
   ]
  },
  {
   "cell_type": "markdown",
   "id": "62870005",
   "metadata": {
    "slideshow": {
     "slide_type": "fragment"
    }
   },
   "source": [
    "#### 🕸️ Réponse A :\n",
    "```python\n",
    "True True True\n",
    "```\n",
    "#### 🕷️ Réponse B :\n",
    "```python\n",
    "False False False\n",
    "```\n",
    "#### 👻 Réponse C :\n",
    "```python\n",
    "False False True\n",
    "```\n",
    "#### 🏚️ Réponse D :\n",
    "```python\n",
    "False True True\n",
    "```"
   ]
  },
  {
   "cell_type": "markdown",
   "id": "24dfb3d1",
   "metadata": {
    "slideshow": {
     "slide_type": "subslide"
    }
   },
   "source": [
    "## ✅ Réponse C :\n",
    "```python\n",
    "False False True\n",
    "```\n",
    "L'interpréteur Python arrive à détecter que les chaines de caractères `b` et `c` sont **identiques** et la même adresse mémoire est allouée. Pour la variable `a`, la méthode `join()` est appelée plus tard par l'interpréteur et donc une **autre adresse mémoire** est allouée.\n",
    "\n",
    "## 📚 Ressources :\n",
    "\n",
    "- [Python - Intern](https://docs.python.org/3/library/sys.html?highlight=sys#sys.intern)\n",
    "\n",
    "- [What the f*ck Python!](https://github.com/satwikkansal/wtfpython#-strings-can-be-tricky-sometimes)"
   ]
  },
  {
   "cell_type": "markdown",
   "id": "049300f6",
   "metadata": {
    "slideshow": {
     "slide_type": "slide"
    }
   },
   "source": [
    "## ❔ Question N°7 🎃\n",
    "\n",
    "Que renvoie le code Python suivant ?\n",
    "\n",
    "```python\n",
    "print(\n",
    "    0 == False,\n",
    "    0+0j == False,\n",
    "    0.0000000000000000000000000000000001 == False,\n",
    "    9e-500 == False,\n",
    ")\n",
    "```"
   ]
  },
  {
   "cell_type": "markdown",
   "id": "ee92c0a5",
   "metadata": {
    "slideshow": {
     "slide_type": "fragment"
    }
   },
   "source": [
    "#### 🕸️ Réponse A :\n",
    "```python\n",
    "True True True True\n",
    "```\n",
    "#### 🕷️ Réponse B :\n",
    "```python\n",
    "False False False False\n",
    "```\n",
    "#### 👻 Réponse C :\n",
    "```python\n",
    "True True True False\n",
    "```\n",
    "#### 🏚️ Réponse D :\n",
    "```python\n",
    "True True False True\n",
    "```"
   ]
  },
  {
   "cell_type": "markdown",
   "id": "6ca0cfde",
   "metadata": {
    "slideshow": {
     "slide_type": "subslide"
    }
   },
   "source": [
    "## ✅ Réponse D :\n",
    "```python\n",
    "True True False True\n",
    "```\n",
    "Le nombre zéro sous forme d'un **entier**, d'un **nombre complexe** ou d'un **nombre à virgule flottante** est assimilé au booléen `False`. Etant donné la précision des nombres à virgule flottante, les nombres trop petits sont assimilés à 0.\n",
    "\n",
    "## 📚 Ressources :\n",
    "\n",
    "- [Python - Booléens](https://docs.python.org/fr/3/library/stdtypes.html#truth-value-testing)"
   ]
  },
  {
   "cell_type": "markdown",
   "id": "c45dce49",
   "metadata": {
    "slideshow": {
     "slide_type": "slide"
    }
   },
   "source": [
    "## ❔ Question N°8 🎃\n",
    "\n",
    "Comment expliquer ce comportement de Python ?\n",
    "\n",
    "```python\n",
    "value = 10\n",
    "valuе = None\n",
    "valuе= 1010\n",
    "print(value)\n",
    "\n",
    ">>> 10\n",
    "```"
   ]
  },
  {
   "cell_type": "markdown",
   "id": "1a29b836",
   "metadata": {
    "slideshow": {
     "slide_type": "fragment"
    }
   },
   "source": [
    "#### 🕸️ Réponse A :\n",
    "Dans certains cas, les espaces dans les variables sont pris en compte dans le nom de la variable\n",
    "\n",
    "#### 🕷️ Réponse B :\n",
    "Le nom des variables semble être le même mais en réalité ce n'est pas le cas\n",
    "\n",
    "#### 👻 Réponse C :\n",
    "Comme `1010` en binaire correspond à `10` en décimal, il n'y a pas de modification de la valeur\n",
    "\n",
    "#### 🏚️ Réponse D :\n",
    "Le fait de réaffecter la variable à `None` ne modifie pas la valeur de la variable\n"
   ]
  },
  {
   "cell_type": "markdown",
   "id": "f37eeb73",
   "metadata": {
    "slideshow": {
     "slide_type": "subslide"
    }
   },
   "source": [
    "## ✅ Réponse B :\n",
    "Le nom des variables semble être le même mais en réalité ce n'est pas le cas\n",
    "\n",
    "Le caractère `e` (latin) et le caractère `е` (cyrillic) sont affichés de la même façon donc les deux variables ont bien des **noms différents**.\n",
    "\n",
    "## 📚 Ressources :\n",
    "\n",
    "- [Python - ord()](https://docs.python.org/fr/3/library/functions.html#ord)\n",
    "\n",
    "- [What the f*ck Python!](https://github.com/satwikkansal/wtfpython#-skipping-lines)"
   ]
  },
  {
   "cell_type": "markdown",
   "id": "2686c627",
   "metadata": {
    "slideshow": {
     "slide_type": "slide"
    }
   },
   "source": [
    "## ❔ Question N°9 🎃\n",
    "\n",
    "Que renvoie le code Python suivant ?\n",
    "\n",
    "```python\n",
    "def t(a,b):\n",
    "    return (b,a)[a<b]\n",
    "print(t(5, 8), t(8, 5))\n",
    "```"
   ]
  },
  {
   "cell_type": "markdown",
   "id": "a36a32b8",
   "metadata": {
    "slideshow": {
     "slide_type": "fragment"
    }
   },
   "source": [
    "#### 🕸️ Réponse A :\n",
    "`5 5`\n",
    "\n",
    "#### 🕷️ Réponse B :\n",
    "`8 5`\n",
    "\n",
    "#### 👻 Réponse C :\n",
    "`8 8`\n",
    "\n",
    "#### 🏚️ Réponse D :\n",
    "`5 8`"
   ]
  },
  {
   "cell_type": "markdown",
   "id": "02b3b81f",
   "metadata": {
    "slideshow": {
     "slide_type": "subslide"
    }
   },
   "source": [
    "## ✅ Réponse A :\n",
    "`5 5`\n",
    "\n",
    "La fonction renvoie le minimum des deux valeurs `a` et `b`. Le booléen de la condition `a<b` est transformé en indice de position dans le tuple `(b,a)`.\n",
    "\n",
    "## 📚 Ressources :\n",
    "\n",
    "- [Python - n-uplets et séquences](https://docs.python.org/fr/3/tutorial/datastructures.html#tuples-and-sequences)"
   ]
  },
  {
   "cell_type": "markdown",
   "id": "d90a450e",
   "metadata": {
    "slideshow": {
     "slide_type": "slide"
    }
   },
   "source": [
    "## ❔ Question N°10 🎃\n",
    "\n",
    "Que renvoie le code Python suivant ?\n",
    "\n",
    "```python\n",
    "print(\n",
    "    re.search(\n",
    "        '^#?([a-f0-9]{6}|[a-f0-9]{3})$',\n",
    "        '12f1'\n",
    "    )\n",
    ")\n",
    "```"
   ]
  },
  {
   "cell_type": "markdown",
   "id": "0b95364c",
   "metadata": {
    "slideshow": {
     "slide_type": "fragment"
    }
   },
   "source": [
    "#### 🕸️ Réponse A :\n",
    "`<re.Match object; span=(0, 3), match='12f'>`\n",
    "\n",
    "#### 🕷️ Réponse B :\n",
    "`<re.Match object; span=(0, 4), match='12f1'>`\n",
    "\n",
    "#### 👻 Réponse C :\n",
    "`None`\n",
    "\n",
    "#### 🏚️ Réponse D :\n",
    "`<re.Match object; span=(0, 2), match='12'>`"
   ]
  },
  {
   "cell_type": "markdown",
   "id": "67d9aa84",
   "metadata": {
    "slideshow": {
     "slide_type": "subslide"
    }
   },
   "source": [
    "## ✅ Réponse  : C\n",
    "`None`\n",
    "\n",
    "L'expression régulière détecte une **chaine hexadécimale** sur 3 ou 6 caractères pour définir une couleur par exemple. \n",
    "\n",
    "## 📚 Ressources :\n",
    "\n",
    "- [Python - Guide des expressions régulières](https://docs.python.org/fr/3/howto/regex.html)"
   ]
  },
  {
   "cell_type": "markdown",
   "id": "e0e372dd",
   "metadata": {
    "slideshow": {
     "slide_type": "slide"
    }
   },
   "source": [
    "# 🎃 Merci pour votre participation active à ce meetup 👻"
   ]
  }
 ],
 "metadata": {
  "celltoolbar": "Slideshow",
  "kernelspec": {
   "display_name": "Python 3 (ipykernel)",
   "language": "python",
   "name": "python3"
  },
  "language_info": {
   "codemirror_mode": {
    "name": "ipython",
    "version": 3
   },
   "file_extension": ".py",
   "mimetype": "text/x-python",
   "name": "python",
   "nbconvert_exporter": "python",
   "pygments_lexer": "ipython3",
   "version": "3.9.6"
  }
 },
 "nbformat": 4,
 "nbformat_minor": 5
}
